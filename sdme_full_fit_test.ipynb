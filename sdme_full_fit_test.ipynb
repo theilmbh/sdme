{
 "cells": [
  {
   "cell_type": "code",
   "execution_count": 1,
   "metadata": {
    "collapsed": false
   },
   "outputs": [
    {
     "name": "stdout",
     "output_type": "stream",
     "text": [
      "Populating the interactive namespace from numpy and matplotlib\n"
     ]
    }
   ],
   "source": [
    "import numpy as np\n",
    "import scipy.optimize as opt\n",
    "import sdme_logloss as sdme\n",
    "%pylab inline"
   ]
  },
  {
   "cell_type": "code",
   "execution_count": 2,
   "metadata": {
    "collapsed": false
   },
   "outputs": [
    {
     "data": {
      "image/png": "[encoded data removed]",
      "text/plain": [
       "<matplotlib.figure.Figure at 0x7ff59f0df5d0>"
      ]
     },
     "metadata": {},
     "output_type": "display_data"
    }
   ],
   "source": [
    "# Import data here.  In this case we will make our own. \n",
    "# First we generate some stimulus:\n",
    "stim_dim = 16*16\n",
    "stim_len = 20000\n",
    "stim = np.random.randn(stim_dim, stim_len)\n",
    "stim = 1.0*stim / np.max(stim)\n",
    "\n",
    "# Next, we generate (first order) population receptive fields\n",
    "\n",
    "N = 2  # Number of neurons\n",
    "p=0.1\n",
    "fo_rf = np.ones((N, stim_dim))\n",
    "fo_rf[np.random.rand(N, stim_dim) > p] = 0\n",
    "fo_rf[0, :] *= 0\n",
    "\n",
    "# Generate Second Order Receptive fields\n",
    "\n",
    "x = np.linspace(-1.0, 1.0, 16)\n",
    "y = x\n",
    "X, Y = np.meshgrid(x, y)\n",
    "gb = np.exp(-(X**2 + Y**2)/0.25)*np.sin(2*np.pi*4*X)\n",
    "plt.figure()\n",
    "plt.set_cmap('gray')\n",
    "plt.imshow(gb)\n",
    "\n",
    "gbvec = np.squeeze(np.reshape(gb, (stim_dim, 1)))\n",
    "eigvecmat = np.random.randn(stim_dim, stim_dim)\n",
    "eigvecmat[0, :] = gbvec\n",
    "eigvalmat = np.identity(stim_dim)/10.0\n",
    "eigvalmat[0,0] = 1.0\n",
    "stc_model = np.dot(np.linalg.inv(eigvecmat), np.dot(eigvalmat, eigvecmat))\n",
    "stc_model_cube = np.zeros((N, stim_dim, stim_dim))\n",
    "stc_model_cube[0, :, :] = stc_model\n",
    "\n",
    "# Generate matrix of all possible population states\n",
    "stmat = sdme.get_states(N)\n",
    "\n",
    "# Next, we generate correlations between the neurons\n",
    "p2 = 0.5\n",
    "neu_corr = np.random.randn(N, N)\n",
    "neu_corr[np.random.rand(N, N) > p2] = 0\n",
    "neu_corr = (neu_corr + np.transpose(neu_corr))/2.0 \n",
    "\n",
    "# Compute the probability over states\n",
    "outcorr = np.einsum('ijk,jt,kt->it', stc_model_cube, stim, stim)\n",
    "corr_states = np.diag(np.dot(np.dot(np.transpose(stmat), neu_corr), stmat))\n",
    "\n",
    "E = np.dot(np.dot(np.transpose(stmat),fo_rf),stim) + np.transpose(np.tile(corr_states, (stim_len, 1))) + np.dot(np.transpose(stmat), outcorr)\n",
    "probs = np.exp(E) / np.sum(np.exp(E),0 )\n",
    "probs[np.isnan(probs)] = 1.0\n",
    "\n",
    "# Generate Responses\n",
    "# cumulative probs\n",
    "probs_c = np.concatenate((np.zeros((1, stim_len)), np.cumsum(probs, 0)), 0)\n",
    "\n",
    "# generate random vec  (COULD BE MADE MORE EFFICIENT)\n",
    "nreps = 20\n",
    "pop_response = np.zeros((N, stim_len, nreps))\n",
    "for rep in range(nreps):\n",
    "    prb = np.random.rand(1, stim_len)\n",
    "    outcomes = 1*np.logical_and(probs_c[0:-1, :] < prb, probs_c[1:, :] > prb)\n",
    "    #np.concatenate((outcomesav, outcomes))\n",
    "    pop_response_this_rep = np.dot(stmat, outcomes)\n",
    "    pop_response[:, :, rep] = pop_response_this_rep\n",
    "\n"
   ]
  },
  {
   "cell_type": "code",
   "execution_count": 3,
   "metadata": {
    "collapsed": false
   },
   "outputs": [
    {
     "name": "stdout",
     "output_type": "stream",
     "text": [
      "[[[ 0.  1.  1. ...,  0.  1.  1.]\n",
      "  [ 1.  1.  1. ...,  1.  0.  1.]\n",
      "  [ 0.  1.  0. ...,  0.  1.  1.]\n",
      "  ..., \n",
      "  [ 0.  0.  1. ...,  1.  0.  0.]\n",
      "  [ 0.  0.  0. ...,  0.  1.  0.]\n",
      "  [ 0.  0.  0. ...,  0.  0.  0.]]\n",
      "\n",
      " [[ 1.  1.  0. ...,  0.  1.  1.]\n",
      "  [ 0.  0.  1. ...,  0.  0.  0.]\n",
      "  [ 0.  1.  1. ...,  0.  0.  0.]\n",
      "  ..., \n",
      "  [ 0.  0.  0. ...,  0.  1.  0.]\n",
      "  [ 1.  1.  1. ...,  1.  0.  0.]\n",
      "  [ 1.  1.  1. ...,  1.  1.  1.]]]\n",
      "STA\n",
      "[[[ 0.  1.  1. ...,  0.  1.  1.]\n",
      "  [ 1.  1.  1. ...,  1.  0.  1.]\n",
      "  [ 0.  1.  0. ...,  0.  1.  1.]\n",
      "  ..., \n",
      "  [ 0.  0.  1. ...,  1.  0.  0.]\n",
      "  [ 0.  0.  0. ...,  0.  1.  0.]\n",
      "  [ 0.  0.  0. ...,  0.  0.  0.]]\n",
      "\n",
      " [[ 1.  1.  0. ...,  0.  1.  1.]\n",
      "  [ 0.  0.  1. ...,  0.  0.  0.]\n",
      "  [ 0.  1.  1. ...,  0.  0.  0.]\n",
      "  ..., \n",
      "  [ 0.  0.  0. ...,  0.  1.  0.]\n",
      "  [ 1.  1.  1. ...,  1.  0.  0.]\n",
      "  [ 1.  1.  1. ...,  1.  1.  1.]]]\n",
      "STC\n",
      "[[[ 0.  1.  1. ...,  0.  1.  1.]\n",
      "  [ 1.  1.  1. ...,  1.  0.  1.]\n",
      "  [ 0.  1.  0. ...,  0.  1.  1.]\n",
      "  ..., \n",
      "  [ 0.  0.  1. ...,  1.  0.  0.]\n",
      "  [ 0.  0.  0. ...,  0.  1.  0.]\n",
      "  [ 0.  0.  0. ...,  0.  0.  0.]]\n",
      "\n",
      " [[ 1.  1.  0. ...,  0.  1.  1.]\n",
      "  [ 0.  0.  1. ...,  0.  0.  0.]\n",
      "  [ 0.  1.  1. ...,  0.  0.  0.]\n",
      "  ..., \n",
      "  [ 0.  0.  0. ...,  0.  1.  0.]\n",
      "  [ 1.  1.  1. ...,  1.  0.  0.]\n",
      "  [ 1.  1.  1. ...,  1.  1.  1.]]]\n",
      "COV\n",
      "[[[ 0.  1.  1. ...,  0.  1.  1.]\n",
      "  [ 1.  1.  1. ...,  1.  0.  1.]\n",
      "  [ 0.  1.  0. ...,  0.  1.  1.]\n",
      "  ..., \n",
      "  [ 0.  0.  1. ...,  1.  0.  0.]\n",
      "  [ 0.  0.  0. ...,  0.  1.  0.]\n",
      "  [ 0.  0.  0. ...,  0.  0.  0.]]\n",
      "\n",
      " [[ 1.  1.  0. ...,  0.  1.  1.]\n",
      "  [ 0.  0.  1. ...,  0.  0.  0.]\n",
      "  [ 0.  1.  1. ...,  0.  0.  0.]\n",
      "  ..., \n",
      "  [ 0.  0.  0. ...,  0.  1.  0.]\n",
      "  [ 1.  1.  1. ...,  1.  0.  0.]\n",
      "  [ 1.  1.  1. ...,  1.  1.  1.]]]\n",
      "emp\n",
      "[[[ 0.  1.  1. ...,  0.  1.  1.]\n",
      "  [ 1.  1.  1. ...,  1.  0.  1.]\n",
      "  [ 0.  1.  0. ...,  0.  1.  1.]\n",
      "  ..., \n",
      "  [ 0.  0.  1. ...,  1.  0.  0.]\n",
      "  [ 0.  0.  0. ...,  0.  1.  0.]\n",
      "  [ 0.  0.  0. ...,  0.  0.  0.]]\n",
      "\n",
      " [[ 1.  1.  0. ...,  0.  1.  1.]\n",
      "  [ 0.  0.  1. ...,  0.  0.  0.]\n",
      "  [ 0.  1.  1. ...,  0.  0.  0.]\n",
      "  ..., \n",
      "  [ 0.  0.  0. ...,  0.  1.  0.]\n",
      "  [ 1.  1.  1. ...,  1.  0.  0.]\n",
      "  [ 1.  1.  1. ...,  1.  1.  1.]]]\n"
     ]
    }
   ],
   "source": [
    "# Now we compute our kernels from the data\n",
    "print(pop_response)\n",
    "data_sta = sdme.data_to_sta(pop_response, stim)\n",
    "print('STA')\n",
    "print(pop_response)\n",
    "data_stc = sdme.data_to_stc(pop_response, stim)\n",
    "print('STC')\n",
    "print(pop_response)\n",
    "data_cov = sdme.data_to_cov(pop_response)\n",
    "print('COV')\n",
    "print(pop_response)\n",
    "data_empirical = sdme.data_to_empirical2(pop_response)\n",
    "print('emp')\n",
    "print(pop_response)"
   ]
  },
  {
   "cell_type": "code",
   "execution_count": 8,
   "metadata": {
    "collapsed": false
   },
   "outputs": [],
   "source": [
    "-"
   ]
  },
  {
   "cell_type": "code",
   "execution_count": 9,
   "metadata": {
    "collapsed": false
   },
   "outputs": [
    {
     "name": "stdout",
     "output_type": "stream",
     "text": [
      "551659250.87\n",
      "1.37914812718\n",
      "[ -5.53337149e-10  -2.06863885e-08  -4.33881302e-07 ...,  -1.45515847e-08\n",
      "  -2.08070581e-06   5.62359887e-06]\n",
      "[  2.47559630e-04  -5.23797332e-05   6.09313456e-04 ...,   2.46849442e-05\n",
      "   2.05224895e-03  -7.26348712e-03]\n"
     ]
    }
   ],
   "source": [
    "print(logloss(pstart))\n",
    "print(logloss3(pstart))\n",
    "print(dlogloss(pstart))\n",
    "print(dlogloss3(pstart))"
   ]
  },
  {
   "cell_type": "code",
   "execution_count": null,
   "metadata": {
    "collapsed": false,
    "scrolled": true
   },
   "outputs": [],
   "source": [
    "# conjugate-gradient:\n",
    "pfinal = opt.fmin_l_bfgs_b(logloss3,pstart,fprime=dlogloss3, iprint=0)"
   ]
  },
  {
   "cell_type": "code",
   "execution_count": 7,
   "metadata": {
    "collapsed": false
   },
   "outputs": [
    {
     "data": {
      "text/plain": [
       "(array([ -6.60731961e-05,  -4.64062503e-05,  -1.92943486e-03, ...,\n",
       "         -4.88679357e-05,   1.97966365e-02,   5.64961712e-03]),\n",
       " 1.3791481271753738,\n",
       " {'funcalls': 21,\n",
       "  'grad': array([ -1.67562994e-04,  -9.92510258e-05,  -4.26907897e-04, ...,\n",
       "           1.35845750e-05,  -2.07696763e-03,   6.40519312e-03]),\n",
       "  'nit': 0,\n",
       "  'task': 'ABNORMAL_TERMINATION_IN_LNSRCH',\n",
       "  'warnflag': 2})"
      ]
     },
     "execution_count": 7,
     "metadata": {},
     "output_type": "execute_result"
    }
   ],
   "source": [
    "pfinal"
   ]
  },
  {
   "cell_type": "code",
   "execution_count": 13,
   "metadata": {
    "collapsed": true
   },
   "outputs": [],
   "source": [
    "test_d = dlogloss(pfinal)"
   ]
  },
  {
   "cell_type": "code",
   "execution_count": 21,
   "metadata": {
    "collapsed": false
   },
   "outputs": [
    {
     "ename": "KeyboardInterrupt",
     "evalue": "",
     "output_type": "error",
     "traceback": [
      "\u001b[1;31m---------------------------------------------------------------------------\u001b[0m",
      "\u001b[1;31mKeyboardInterrupt\u001b[0m                         Traceback (most recent call last)",
      "\u001b[1;32m<ipython-input-21-7e92fb86d012>\u001b[0m in \u001b[0;36m<module>\u001b[1;34m()\u001b[0m\n\u001b[1;32m----> 1\u001b[1;33m \u001b[0mopt\u001b[0m\u001b[1;33m.\u001b[0m\u001b[0mcheck_grad\u001b[0m\u001b[1;33m(\u001b[0m\u001b[0mlogloss\u001b[0m\u001b[1;33m,\u001b[0m \u001b[0mdlogloss\u001b[0m\u001b[1;33m,\u001b[0m \u001b[0mpstart\u001b[0m\u001b[1;33m)\u001b[0m\u001b[1;33m\u001b[0m\u001b[0m\n\u001b[0m",
      "\u001b[1;32m/usr/local/anaconda/lib/python2.7/site-packages/scipy/optimize/optimize.pyc\u001b[0m in \u001b[0;36mcheck_grad\u001b[1;34m(func, grad, x0, *args)\u001b[0m\n\u001b[0;32m    655\u001b[0m     \"\"\"\n\u001b[0;32m    656\u001b[0m     return sqrt(sum((grad(x0, *args) -\n\u001b[1;32m--> 657\u001b[1;33m                      approx_fprime(x0, func, _epsilon, *args))**2))\n\u001b[0m\u001b[0;32m    658\u001b[0m \u001b[1;33m\u001b[0m\u001b[0m\n\u001b[0;32m    659\u001b[0m \u001b[1;33m\u001b[0m\u001b[0m\n",
      "\u001b[1;32m/usr/local/anaconda/lib/python2.7/site-packages/scipy/optimize/optimize.pyc\u001b[0m in \u001b[0;36mapprox_fprime\u001b[1;34m(xk, f, epsilon, *args)\u001b[0m\n\u001b[0;32m    608\u001b[0m         \u001b[0mei\u001b[0m\u001b[1;33m[\u001b[0m\u001b[0mk\u001b[0m\u001b[1;33m]\u001b[0m \u001b[1;33m=\u001b[0m \u001b[1;36m1.0\u001b[0m\u001b[1;33m\u001b[0m\u001b[0m\n\u001b[0;32m    609\u001b[0m         \u001b[0md\u001b[0m \u001b[1;33m=\u001b[0m \u001b[0mepsilon\u001b[0m \u001b[1;33m*\u001b[0m \u001b[0mei\u001b[0m\u001b[1;33m\u001b[0m\u001b[0m\n\u001b[1;32m--> 610\u001b[1;33m         \u001b[0mgrad\u001b[0m\u001b[1;33m[\u001b[0m\u001b[0mk\u001b[0m\u001b[1;33m]\u001b[0m \u001b[1;33m=\u001b[0m \u001b[1;33m(\u001b[0m\u001b[0mf\u001b[0m\u001b[1;33m(\u001b[0m\u001b[1;33m*\u001b[0m\u001b[1;33m(\u001b[0m\u001b[1;33m(\u001b[0m\u001b[0mxk\u001b[0m \u001b[1;33m+\u001b[0m \u001b[0md\u001b[0m\u001b[1;33m,\u001b[0m\u001b[1;33m)\u001b[0m \u001b[1;33m+\u001b[0m \u001b[0margs\u001b[0m\u001b[1;33m)\u001b[0m\u001b[1;33m)\u001b[0m \u001b[1;33m-\u001b[0m \u001b[0mf0\u001b[0m\u001b[1;33m)\u001b[0m \u001b[1;33m/\u001b[0m \u001b[0md\u001b[0m\u001b[1;33m[\u001b[0m\u001b[0mk\u001b[0m\u001b[1;33m]\u001b[0m\u001b[1;33m\u001b[0m\u001b[0m\n\u001b[0m\u001b[0;32m    611\u001b[0m         \u001b[0mei\u001b[0m\u001b[1;33m[\u001b[0m\u001b[0mk\u001b[0m\u001b[1;33m]\u001b[0m \u001b[1;33m=\u001b[0m \u001b[1;36m0.0\u001b[0m\u001b[1;33m\u001b[0m\u001b[0m\n\u001b[0;32m    612\u001b[0m \u001b[1;33m\u001b[0m\u001b[0m\n",
      "\u001b[1;32m<ipython-input-18-8a42df4e1c67>\u001b[0m in \u001b[0;36mlogloss\u001b[1;34m(p)\u001b[0m\n\u001b[0;32m     20\u001b[0m     \u001b[1;31m#p_cov = np.reshape(p[sta_len+stc_len:], (N, N))\u001b[0m\u001b[1;33m\u001b[0m\u001b[1;33m\u001b[0m\u001b[0m\n\u001b[0;32m     21\u001b[0m \u001b[1;33m\u001b[0m\u001b[0m\n\u001b[1;32m---> 22\u001b[1;33m     \u001b[1;32mreturn\u001b[0m \u001b[0msdme\u001b[0m\u001b[1;33m.\u001b[0m\u001b[0msdme_logloss2\u001b[0m\u001b[1;33m(\u001b[0m\u001b[0mstim\u001b[0m\u001b[1;33m,\u001b[0m \u001b[0mdata_empirical\u001b[0m\u001b[1;33m,\u001b[0m \u001b[0mstmat\u001b[0m\u001b[1;33m,\u001b[0m \u001b[0mp_sta\u001b[0m\u001b[1;33m,\u001b[0m \u001b[0mp_stc\u001b[0m\u001b[1;33m,\u001b[0m \u001b[0mp_cov\u001b[0m\u001b[1;33m)\u001b[0m\u001b[1;33m\u001b[0m\u001b[0m\n\u001b[0m\u001b[0;32m     23\u001b[0m \u001b[1;33m\u001b[0m\u001b[0m\n\u001b[0;32m     24\u001b[0m \u001b[1;32mdef\u001b[0m \u001b[0mlogloss3\u001b[0m\u001b[1;33m(\u001b[0m\u001b[0mp\u001b[0m\u001b[1;33m)\u001b[0m\u001b[1;33m:\u001b[0m\u001b[1;33m\u001b[0m\u001b[0m\n",
      "\u001b[1;32m/usr/local/home/btheilma/sdme/sdme_logloss.pyc\u001b[0m in \u001b[0;36msdme_logloss2\u001b[1;34m(stim, resp, stmat, A, B, C)\u001b[0m\n\u001b[0;32m    128\u001b[0m     \u001b[1;31m# Compute the probability over states\u001b[0m\u001b[1;33m\u001b[0m\u001b[1;33m\u001b[0m\u001b[0m\n\u001b[0;32m    129\u001b[0m     \u001b[0mcorr_states\u001b[0m \u001b[1;33m=\u001b[0m \u001b[0mnp\u001b[0m\u001b[1;33m.\u001b[0m\u001b[0mdiag\u001b[0m\u001b[1;33m(\u001b[0m\u001b[0mnp\u001b[0m\u001b[1;33m.\u001b[0m\u001b[0mdot\u001b[0m\u001b[1;33m(\u001b[0m\u001b[0mnp\u001b[0m\u001b[1;33m.\u001b[0m\u001b[0mdot\u001b[0m\u001b[1;33m(\u001b[0m\u001b[0mnp\u001b[0m\u001b[1;33m.\u001b[0m\u001b[0mtranspose\u001b[0m\u001b[1;33m(\u001b[0m\u001b[0mstmat\u001b[0m\u001b[1;33m)\u001b[0m\u001b[1;33m,\u001b[0m \u001b[0mC\u001b[0m\u001b[1;33m)\u001b[0m\u001b[1;33m,\u001b[0m \u001b[0mstmat\u001b[0m\u001b[1;33m)\u001b[0m\u001b[1;33m)\u001b[0m\u001b[1;33m\u001b[0m\u001b[0m\n\u001b[1;32m--> 130\u001b[1;33m     \u001b[0moutcorr\u001b[0m \u001b[1;33m=\u001b[0m \u001b[0mnp\u001b[0m\u001b[1;33m.\u001b[0m\u001b[0meinsum\u001b[0m\u001b[1;33m(\u001b[0m\u001b[1;34m'ijk,jt,kt->it'\u001b[0m\u001b[1;33m,\u001b[0m \u001b[0mB\u001b[0m\u001b[1;33m,\u001b[0m \u001b[0mstim\u001b[0m\u001b[1;33m,\u001b[0m \u001b[0mstim\u001b[0m\u001b[1;33m)\u001b[0m\u001b[1;33m\u001b[0m\u001b[0m\n\u001b[0m\u001b[0;32m    131\u001b[0m \u001b[1;33m\u001b[0m\u001b[0m\n\u001b[0;32m    132\u001b[0m     \u001b[0mE\u001b[0m \u001b[1;33m=\u001b[0m \u001b[0mnp\u001b[0m\u001b[1;33m.\u001b[0m\u001b[0mdot\u001b[0m\u001b[1;33m(\u001b[0m\u001b[0mnp\u001b[0m\u001b[1;33m.\u001b[0m\u001b[0mdot\u001b[0m\u001b[1;33m(\u001b[0m\u001b[0mnp\u001b[0m\u001b[1;33m.\u001b[0m\u001b[0mtranspose\u001b[0m\u001b[1;33m(\u001b[0m\u001b[0mstmat\u001b[0m\u001b[1;33m)\u001b[0m\u001b[1;33m,\u001b[0m \u001b[0mA\u001b[0m\u001b[1;33m)\u001b[0m\u001b[1;33m,\u001b[0m\u001b[0mstim\u001b[0m\u001b[1;33m)\u001b[0m \u001b[1;33m+\u001b[0m \u001b[0mnp\u001b[0m\u001b[1;33m.\u001b[0m\u001b[0mtranspose\u001b[0m\u001b[1;33m(\u001b[0m\u001b[0mnp\u001b[0m\u001b[1;33m.\u001b[0m\u001b[0mtile\u001b[0m\u001b[1;33m(\u001b[0m\u001b[0mcorr_states\u001b[0m\u001b[1;33m,\u001b[0m \u001b[1;33m(\u001b[0m\u001b[0mstimlen\u001b[0m\u001b[1;33m,\u001b[0m \u001b[1;36m1\u001b[0m\u001b[1;33m)\u001b[0m\u001b[1;33m)\u001b[0m\u001b[1;33m)\u001b[0m \u001b[1;33m+\u001b[0m \u001b[0mnp\u001b[0m\u001b[1;33m.\u001b[0m\u001b[0mdot\u001b[0m\u001b[1;33m(\u001b[0m\u001b[0mnp\u001b[0m\u001b[1;33m.\u001b[0m\u001b[0mtranspose\u001b[0m\u001b[1;33m(\u001b[0m\u001b[0mstmat\u001b[0m\u001b[1;33m)\u001b[0m\u001b[1;33m,\u001b[0m \u001b[0moutcorr\u001b[0m\u001b[1;33m)\u001b[0m\u001b[1;33m\u001b[0m\u001b[0m\n",
      "\u001b[1;31mKeyboardInterrupt\u001b[0m: "
     ]
    }
   ],
   "source": []
  },
  {
   "cell_type": "code",
   "execution_count": 22,
   "metadata": {
    "collapsed": false
   },
   "outputs": [
    {
     "data": {
      "text/plain": [
       "(131585,)"
      ]
     },
     "execution_count": 22,
     "metadata": {},
     "output_type": "execute_result"
    }
   ],
   "source": [
    "np.shape(pstart)"
   ]
  },
  {
   "cell_type": "code",
   "execution_count": null,
   "metadata": {
    "collapsed": true
   },
   "outputs": [],
   "source": []
  }
 ],
 "metadata": {
  "kernelspec": {
   "display_name": "Python 2",
   "language": "python",
   "name": "python2"
  },
  "language_info": {
   "codemirror_mode": {
    "name": "ipython",
    "version": 2
   },
   "file_extension": ".py",
   "mimetype": "text/x-python",
   "name": "python",
   "nbconvert_exporter": "python",
   "pygments_lexer": "ipython2",
   "version": "2.7.11"
  }
 },
 "nbformat": 4,
 "nbformat_minor": 0
}
