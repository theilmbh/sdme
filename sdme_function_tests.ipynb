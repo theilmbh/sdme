{
 "cells": [
  {
   "cell_type": "code",
   "execution_count": 1,
   "metadata": {
    "collapsed": false
   },
   "outputs": [
    {
     "name": "stdout",
     "output_type": "stream",
     "text": [
      "Populating the interactive namespace from numpy and matplotlib\n"
     ]
    }
   ],
   "source": [
    "import numpy as np\n",
    "import scipy as sp\n",
    "import sdme_logloss as sdme\n",
    "\n",
    "%pylab inline"
   ]
  },
  {
   "cell_type": "code",
   "execution_count": 2,
   "metadata": {
    "collapsed": false
   },
   "outputs": [],
   "source": [
    "# First we generate some stimulus:\n",
    "stim_dim = 16*16\n",
    "stim_len = 20000\n",
    "stim = np.random.randn(stim_dim, stim_len)\n",
    "stim = stim / np.max(stim)"
   ]
  },
  {
   "cell_type": "code",
   "execution_count": 3,
   "metadata": {
    "collapsed": false
   },
   "outputs": [],
   "source": [
    "# Next, we generate (first order) population receptive fields\n",
    "\n",
    "N = 4  # Number of neurons\n",
    "p=0.1\n",
    "fo_rf = np.ones((N, stim_dim))\n",
    "fo_rf[np.random.rand(N, stim_dim) > p] = 0\n",
    "fo_rf[0, :] *= 0"
   ]
  },
  {
   "cell_type": "code",
   "execution_count": 4,
   "metadata": {
    "collapsed": false
   },
   "outputs": [
    {
     "data": {
      "image/png": "[encoded data removed]",
      "text/plain": [
       "<matplotlib.figure.Figure at 0x7f480c9ed790>"
      ]
     },
     "metadata": {},
     "output_type": "display_data"
    }
   ],
   "source": [
    "# Generate Second Order Receptive fields\n",
    "\n",
    "x = np.linspace(-1.0, 1.0, 16)\n",
    "y = x\n",
    "X, Y = np.meshgrid(x, y)\n",
    "gb = np.exp(-(X**2 + Y**2)/0.25)*np.sin(2*np.pi*4*X)\n",
    "plt.figure()\n",
    "plt.set_cmap('gray')\n",
    "plt.imshow(gb)\n",
    "\n",
    "gbvec = np.squeeze(np.reshape(gb, (stim_dim, 1)))\n",
    "eigvecmat = np.random.randn(stim_dim, stim_dim)\n",
    "eigvecmat[0, :] = gbvec\n",
    "eigvalmat = np.identity(stim_dim)/10.0\n",
    "eigvalmat[0,0] = 1.0\n",
    "stc_model = np.dot(np.linalg.inv(eigvecmat), np.dot(eigvalmat, eigvecmat))\n",
    "stc_model_cube = np.zeros((N, stim_dim, stim_dim))\n",
    "stc_model_cube[0, :, :] = stc_model\n",
    "\n"
   ]
  },
  {
   "cell_type": "code",
   "execution_count": 5,
   "metadata": {
    "collapsed": false
   },
   "outputs": [],
   "source": [
    "# Generate matrix of all possible population states\n",
    "stmat = sdme.get_states(N)\n"
   ]
  },
  {
   "cell_type": "code",
   "execution_count": 6,
   "metadata": {
    "collapsed": false
   },
   "outputs": [],
   "source": [
    "# Next, we generate correlations between the neurons\n",
    "p2 = 0.5\n",
    "neu_corr = np.random.randn(N, N)\n",
    "neu_corr[np.random.rand(N, N) > p2] = 0\n",
    "neu_corr = (neu_corr + np.transpose(neu_corr))/2.0 "
   ]
  },
  {
   "cell_type": "code",
   "execution_count": 7,
   "metadata": {
    "collapsed": false
   },
   "outputs": [],
   "source": [
    "# Compute the probability over states\n",
    "outcorr = np.einsum('ijk,jt,kt->it', stc_model_cube, stim, stim)\n",
    "corr_states = np.diag(np.dot(np.dot(np.transpose(stmat), neu_corr), stmat))\n",
    "\n",
    "E = np.dot(np.dot(np.transpose(stmat),fo_rf),stim) + np.transpose(np.tile(corr_states, (stim_len, 1))) + np.dot(np.transpose(stmat), outcorr)\n",
    "probs = np.exp(E) / np.sum(np.exp(E),0 )\n",
    "probs[np.isnan(probs)] = 1.0"
   ]
  },
  {
   "cell_type": "code",
   "execution_count": 8,
   "metadata": {
    "collapsed": false
   },
   "outputs": [
    {
     "name": "stdout",
     "output_type": "stream",
     "text": [
      "[ 1.  1.  1. ...,  1.  1.  1.]\n",
      "[[  0.00000000e+00   0.00000000e+00   0.00000000e+00 ...,   0.00000000e+00\n",
      "    0.00000000e+00   0.00000000e+00]\n",
      " [  0.00000000e+00   0.00000000e+00   0.00000000e+00 ...,   0.00000000e+00\n",
      "    0.00000000e+00   0.00000000e+00]\n",
      " [  1.14258265e+00   6.81242317e-02   2.08669791e-01 ...,   9.57776478e-01\n",
      "   -1.95183016e+00   1.21924893e-03]\n",
      " ..., \n",
      " [  2.30090474e+00   2.32015185e+00   2.49966199e+00 ...,  -1.14296585e+00\n",
      "   -3.16305669e-01  -1.50153018e-01]\n",
      " [  3.44348739e+00   2.38827608e+00   2.70833178e+00 ...,  -1.85189373e-01\n",
      "   -2.26813583e+00  -1.48933769e-01]\n",
      " [  3.44348739e+00   2.38827608e+00   2.70833178e+00 ...,  -1.85189373e-01\n",
      "   -2.26813583e+00  -1.48933769e-01]]\n",
      "[[ 0.          0.          0.         ...,  0.          0.          0.        ]\n",
      " [ 1.05159553 -4.59901398  1.83962875 ...,  2.02608865  2.17241273\n",
      "   3.07755651]\n",
      " [ 0.          0.          0.         ...,  0.          0.          0.        ]\n",
      " ..., \n",
      " [ 1.05159553 -4.59901398  1.83962875 ...,  2.02608865  2.17241273\n",
      "   3.07755651]\n",
      " [ 0.          0.          0.         ...,  0.          0.          0.        ]\n",
      " [ 1.05159553 -4.59901398  1.83962875 ...,  2.02608865  2.17241273\n",
      "   3.07755651]]\n"
     ]
    }
   ],
   "source": [
    "# Sanity Check\n",
    "print(np.sum(probs, 0))\n",
    "#print(E)\n",
    "test1 = np.dot(np.dot(np.transpose(stmat),fo_rf),stim)\n",
    "print(test1)\n",
    "test2 = np.dot(np.transpose(stmat), outcorr)\n",
    "print(test2)"
   ]
  },
  {
   "cell_type": "code",
   "execution_count": 9,
   "metadata": {
    "collapsed": false
   },
   "outputs": [],
   "source": [
    "# Generate Responses\n",
    "# cumulative probs\n",
    "probs_c = np.concatenate((np.zeros((1, stim_len)), np.cumsum(probs, 0)), 0)\n",
    "\n",
    "# generate random vec  (COULD BE MADE MORE EFFICIENT)\n",
    "nreps = 20\n",
    "pop_response = np.zeros((N, stim_len, nreps))\n",
    "for rep in range(nreps):\n",
    "    prb = np.random.rand(1, stim_len)\n",
    "    outcomes = 1*np.logical_and(probs_c[0:-1, :] < prb, probs_c[1:, :] > prb)\n",
    "    #np.concatenate((outcomesav, outcomes))\n",
    "    pop_response_this_rep = np.dot(stmat, outcomes)\n",
    "    pop_response[:, :, rep] = pop_response_this_rep\n",
    "\n"
   ]
  },
  {
   "cell_type": "code",
   "execution_count": 10,
   "metadata": {
    "collapsed": false
   },
   "outputs": [
    {
     "data": {
      "text/plain": [
       "0.0095068685982806472"
      ]
     },
     "execution_count": 10,
     "metadata": {},
     "output_type": "execute_result"
    }
   ],
   "source": [
    "pop_response_rep = pop_response\n",
    "test_sta = sdme.data_to_sta(pop_response_rep, stim)\n",
    "np.shape(test_sta)\n",
    "np.amax(test_sta)"
   ]
  },
  {
   "cell_type": "code",
   "execution_count": 19,
   "metadata": {
    "collapsed": false
   },
   "outputs": [
    {
     "name": "stdout",
     "output_type": "stream",
     "text": [
      "[[[ 1. -1.  1. ..., -1. -1.  1.]\n",
      "  [-1. -1. -1. ..., -1. -1. -1.]\n",
      "  [-1.  1.  1. ...,  1.  1.  1.]\n",
      "  ..., \n",
      "  [ 1.  1.  1. ...,  1.  1.  1.]\n",
      "  [ 1.  1.  1. ...,  1.  1.  1.]\n",
      "  [ 1.  1.  1. ...,  1.  1.  1.]]\n",
      "\n",
      " [[ 1. -1.  1. ...,  1. -1.  1.]\n",
      "  [ 1. -1.  1. ...,  1. -1. -1.]\n",
      "  [ 1.  1.  1. ..., -1.  1. -1.]\n",
      "  ..., \n",
      "  [ 1.  1. -1. ...,  1.  1. -1.]\n",
      "  [-1. -1. -1. ..., -1. -1. -1.]\n",
      "  [ 1. -1. -1. ..., -1.  1.  1.]]\n",
      "\n",
      " [[ 1.  1.  1. ...,  1.  1.  1.]\n",
      "  [ 1.  1.  1. ..., -1.  1.  1.]\n",
      "  [ 1.  1.  1. ...,  1.  1.  1.]\n",
      "  ..., \n",
      "  [-1. -1.  1. ...,  1.  1.  1.]\n",
      "  [ 1.  1.  1. ..., -1. -1. -1.]\n",
      "  [ 1.  1.  1. ...,  1.  1.  1.]]\n",
      "\n",
      " [[-1.  1.  1. ...,  1.  1.  1.]\n",
      "  [ 1.  1.  1. ...,  1.  1.  1.]\n",
      "  [ 1.  1.  1. ..., -1. -1. -1.]\n",
      "  ..., \n",
      "  [ 1. -1.  1. ...,  1. -1.  1.]\n",
      "  [ 1. -1. -1. ..., -1. -1. -1.]\n",
      "  [-1. -1. -1. ..., -1. -1. -1.]]]\n"
     ]
    }
   ],
   "source": [
    "print(pop_response_rep)\n",
    "\n"
   ]
  },
  {
   "cell_type": "code",
   "execution_count": 20,
   "metadata": {
    "collapsed": false
   },
   "outputs": [
    {
     "name": "stdout",
     "output_type": "stream",
     "text": [
      "[[[ 1. -1.  1. ..., -1. -1.  1.]\n",
      "  [-1. -1. -1. ..., -1. -1. -1.]\n",
      "  [-1.  1.  1. ...,  1.  1.  1.]\n",
      "  ..., \n",
      "  [ 1.  1.  1. ...,  1.  1.  1.]\n",
      "  [ 1.  1.  1. ...,  1.  1.  1.]\n",
      "  [ 1.  1.  1. ...,  1.  1.  1.]]\n",
      "\n",
      " [[ 1. -1.  1. ...,  1. -1.  1.]\n",
      "  [ 1. -1.  1. ...,  1. -1. -1.]\n",
      "  [ 1.  1.  1. ..., -1.  1. -1.]\n",
      "  ..., \n",
      "  [ 1.  1. -1. ...,  1.  1. -1.]\n",
      "  [-1. -1. -1. ..., -1. -1. -1.]\n",
      "  [ 1. -1. -1. ..., -1.  1.  1.]]\n",
      "\n",
      " [[ 1.  1.  1. ...,  1.  1.  1.]\n",
      "  [ 1.  1.  1. ..., -1.  1.  1.]\n",
      "  [ 1.  1.  1. ...,  1.  1.  1.]\n",
      "  ..., \n",
      "  [-1. -1.  1. ...,  1.  1.  1.]\n",
      "  [ 1.  1.  1. ..., -1. -1. -1.]\n",
      "  [ 1.  1.  1. ...,  1.  1.  1.]]\n",
      "\n",
      " [[-1.  1.  1. ...,  1.  1.  1.]\n",
      "  [ 1.  1.  1. ...,  1.  1.  1.]\n",
      "  [ 1.  1.  1. ..., -1. -1. -1.]\n",
      "  ..., \n",
      "  [ 1. -1.  1. ...,  1. -1.  1.]\n",
      "  [ 1. -1. -1. ..., -1. -1. -1.]\n",
      "  [-1. -1. -1. ..., -1. -1. -1.]]]\n"
     ]
    }
   ],
   "source": [
    "print(pop_response)"
   ]
  },
  {
   "cell_type": "code",
   "execution_count": 13,
   "metadata": {
    "collapsed": false
   },
   "outputs": [
    {
     "data": {
      "text/plain": [
       "<matplotlib.image.AxesImage at 0x7f47ef460950>"
      ]
     },
     "execution_count": 13,
     "metadata": {},
     "output_type": "execute_result"
    },
    {
     "data": {
      "image/png": "[encoded data removed]",
      "text/plain": [
       "<matplotlib.figure.Figure at 0x7f4804053790>"
      ]
     },
     "metadata": {},
     "output_type": "display_data"
    },
    {
     "data": {
      "image/png": "[encoded data removed]",
      "text/plain": [
       "<matplotlib.figure.Figure at 0x7f47f076e790>"
      ]
     },
     "metadata": {},
     "output_type": "display_data"
    }
   ],
   "source": [
    "rf0_sq = np.reshape(fo_rf[1,:], (16, 16))\n",
    "rf0_est_sq= np.reshape(test_sta[1,:], (16, 16))\n",
    "\n",
    "plt.figure()\n",
    "plt.imshow(rf0_sq)\n",
    "\n",
    "plt.figure()\n",
    "plt.imshow(rf0_est_sq)"
   ]
  },
  {
   "cell_type": "code",
   "execution_count": 14,
   "metadata": {
    "collapsed": false
   },
   "outputs": [
    {
     "data": {
      "text/plain": [
       "0.030145742829075971"
      ]
     },
     "execution_count": 14,
     "metadata": {},
     "output_type": "execute_result"
    }
   ],
   "source": [
    "test_stc = sdme.data_to_stc(pop_response_rep, stim)\n",
    "np.shape(test_stc)\n",
    "np.amax(test_stc)"
   ]
  },
  {
   "cell_type": "code",
   "execution_count": 15,
   "metadata": {
    "collapsed": false
   },
   "outputs": [
    {
     "data": {
      "text/plain": [
       "<matplotlib.image.AxesImage at 0x7f47ef1fcb90>"
      ]
     },
     "execution_count": 15,
     "metadata": {},
     "output_type": "execute_result"
    },
    {
     "data": {
      "image/png": "[encoded data removed]",
      "text/plain": [
       "<matplotlib.figure.Figure at 0x7f47ef3edd50>"
      ]
     },
     "metadata": {},
     "output_type": "display_data"
    },
    {
     "data": {
      "image/png": "[encoded data removed]",
      "text/plain": [
       "<matplotlib.figure.Figure at 0x7f47ef3e4b50>"
      ]
     },
     "metadata": {},
     "output_type": "display_data"
    },
    {
     "data": {
      "image/png": "[encoded data removed]",
      "text/plain": [
       "<matplotlib.figure.Figure at 0x7f47ef305ad0>"
      ]
     },
     "metadata": {},
     "output_type": "display_data"
    }
   ],
   "source": [
    "eigvals_0, eigvecs_0 = np.linalg.eig(test_stc[0, :, :])\n",
    "plt.figure()\n",
    "plt.plot(eigvals_0, '.')\n",
    "\n",
    "eigvec_0_0_sq = np.reshape(eigvecs_0[:, 0], (16, 16))\n",
    "\n",
    "plt.figure()\n",
    "plt.imshow(gb)\n",
    "\n",
    "plt.figure()\n",
    "plt.imshow(eigvec_0_0_sq)"
   ]
  },
  {
   "cell_type": "code",
   "execution_count": 17,
   "metadata": {
    "collapsed": true
   },
   "outputs": [],
   "source": [
    "def data_to_cov2(spikes):\n",
    "    # Estimate the neuron-neuron covariance\n",
    "    # spikes: N x stimlen x nrepeats\n",
    "    N, stimlen, nreps = np.shape(spikes)\n",
    "    \n",
    "    spikes = 1.0*np.squeeze(np.sum(spikes,2))\n",
    "    spikes -= np.transpose(np.tile(np.mean(spikes, 1), (stimlen, 1)))\n",
    "    print(spikes)\n",
    "    print(np.shape(spikes))\n",
    "    cov = np.tensordot(spikes, np.transpose(spikes), 1) / (1.0*nreps*stimlen)\n",
    "    cov -= np.diagflat(np.diag(cov))\n",
    "    return cov"
   ]
  },
  {
   "cell_type": "code",
   "execution_count": 16,
   "metadata": {
    "collapsed": false
   },
   "outputs": [
    {
     "name": "stdout",
     "output_type": "stream",
     "text": [
      "[[  0.5835  -14.4165    2.5835  ...,   4.5835    3.5835    4.5835 ]\n",
      " [  3.0486    3.0486   -0.9514  ...,   4.0486   -7.9514   -0.9514 ]\n",
      " [  4.37855   0.37855   4.37855 ...,   0.37855   0.37855  -0.62145]\n",
      " [  6.9861    7.9861    0.9861  ...,  -1.0139   -7.0139   -7.0139 ]]\n",
      "(4, 20000)\n"
     ]
    },
    {
     "data": {
      "text/plain": [
       "array([[ 0.        , -0.0184604 ,  0.2831283 , -0.38584697],\n",
       "       [-0.0184604 ,  0.        , -0.07168988,  0.10978878],\n",
       "       [ 0.2831283 , -0.07168988,  0.        ,  0.21142809],\n",
       "       [-0.38584697,  0.10978878,  0.21142809,  0.        ]])"
      ]
     },
     "execution_count": 16,
     "metadata": {},
     "output_type": "execute_result"
    }
   ],
   "source": [
    "test_cov = sdme.data_to_cov(pop_response_rep)\n",
    "np.shape(test_cov)\n",
    "np.amax(test_cov)\n",
    "test_cov"
   ]
  },
  {
   "cell_type": "code",
   "execution_count": 17,
   "metadata": {
    "collapsed": false
   },
   "outputs": [
    {
     "data": {
      "text/plain": [
       "(16, 20000)"
      ]
     },
     "execution_count": 17,
     "metadata": {},
     "output_type": "execute_result"
    }
   ],
   "source": [
    "test_emp_distrib = sdme.data_to_empirical2(pop_response_rep)\n",
    "np.shape(test_emp_distrib)"
   ]
  },
  {
   "cell_type": "code",
   "execution_count": 18,
   "metadata": {
    "collapsed": false
   },
   "outputs": [
    {
     "name": "stdout",
     "output_type": "stream",
     "text": [
      "0.95\n"
     ]
    },
    {
     "data": {
      "text/plain": [
       "array([[ 0.  ,  0.05,  0.  ,  0.  ],\n",
       "       [ 0.  ,  0.  ,  0.  ,  0.  ],\n",
       "       [ 0.  ,  0.05,  0.  ,  0.  ],\n",
       "       [ 0.  ,  0.  ,  0.05,  0.05],\n",
       "       [ 0.  ,  0.  ,  0.  ,  0.  ],\n",
       "       [ 0.05,  0.  ,  0.35,  0.1 ],\n",
       "       [ 0.  ,  0.05,  0.  ,  0.  ],\n",
       "       [ 0.15,  0.  ,  0.1 ,  0.1 ],\n",
       "       [ 0.  ,  0.  ,  0.  ,  0.05],\n",
       "       [ 0.  ,  0.  ,  0.  ,  0.  ],\n",
       "       [ 0.  ,  0.15,  0.  ,  0.  ],\n",
       "       [ 0.05,  0.  ,  0.  ,  0.05],\n",
       "       [ 0.1 ,  0.3 ,  0.05,  0.05],\n",
       "       [ 0.25,  0.05,  0.2 ,  0.1 ],\n",
       "       [ 0.1 ,  0.35,  0.05,  0.1 ],\n",
       "       [ 0.3 ,  0.  ,  0.2 ,  0.4 ]])"
      ]
     },
     "execution_count": 18,
     "metadata": {},
     "output_type": "execute_result"
    }
   ],
   "source": [
    "print(np.amax(test_emp_distrib))\n",
    "test_emp_distrib[:, 0:4]"
   ]
  },
  {
   "cell_type": "code",
   "execution_count": 19,
   "metadata": {
    "collapsed": true
   },
   "outputs": [],
   "source": [
    "def data_to_empirical2(spikes):\n",
    "    # spikes: N x stimlen x nrepeats\n",
    "    N, stimlen, nreps = np.shape(spikes)\n",
    "    stmat= sdme.get_states(N)\n",
    "    stmat[stmat == 0] = -1\n",
    "    spikes[spikes == 0] = -1\n",
    "    data_state = np.tensordot(np.transpose(stmat), spikes, 1) / (1.0*(N)) # Find which state the network is in\n",
    "    data_state[data_state < 1.0] = 0\n",
    "    empirical_distrib = np.sum(data_state, 2) / (1.0*nreps) # compute histogram over each rep. \n",
    "    return empirical_distrib"
   ]
  },
  {
   "cell_type": "code",
   "execution_count": 23,
   "metadata": {
    "collapsed": false
   },
   "outputs": [
    {
     "name": "stdout",
     "output_type": "stream",
     "text": [
      "0.0\n"
     ]
    },
    {
     "data": {
      "text/plain": [
       "array([[ 0.,  0.,  0.,  0.],\n",
       "       [ 0.,  0.,  0.,  0.],\n",
       "       [ 0.,  0.,  0.,  0.],\n",
       "       [ 0.,  0.,  0.,  0.],\n",
       "       [ 0.,  0.,  0.,  0.],\n",
       "       [ 0.,  0.,  0.,  0.],\n",
       "       [ 0.,  0.,  0.,  0.],\n",
       "       [ 0.,  0.,  0.,  0.],\n",
       "       [ 0.,  0.,  0.,  0.],\n",
       "       [ 0.,  0.,  0.,  0.],\n",
       "       [ 0.,  0.,  0.,  0.],\n",
       "       [ 0.,  0.,  0.,  0.],\n",
       "       [ 0.,  0.,  0.,  0.],\n",
       "       [ 0.,  0.,  0.,  0.],\n",
       "       [ 0.,  0.,  0.,  0.],\n",
       "       [ 0.,  0.,  0.,  0.]])"
      ]
     },
     "execution_count": 23,
     "metadata": {},
     "output_type": "execute_result"
    }
   ],
   "source": [
    "test_dist2 = data_to_empirical2(pop_response_rep)\n",
    "print(np.amax(test_emp_distrib))\n",
    "test_emp_distrib[:, 0:4]"
   ]
  },
  {
   "cell_type": "code",
   "execution_count": 34,
   "metadata": {
    "collapsed": false
   },
   "outputs": [
    {
     "data": {
      "text/plain": [
       "array([[0, 1, 0, 1, 0, 1, 0, 1, 0, 1, 0, 1, 0, 1, 0, 1],\n",
       "       [0, 0, 1, 1, 0, 0, 1, 1, 0, 0, 1, 1, 0, 0, 1, 1],\n",
       "       [0, 0, 0, 0, 1, 1, 1, 1, 0, 0, 0, 0, 1, 1, 1, 1],\n",
       "       [0, 0, 0, 0, 0, 0, 0, 0, 1, 1, 1, 1, 1, 1, 1, 1]])"
      ]
     },
     "execution_count": 34,
     "metadata": {},
     "output_type": "execute_result"
    }
   ],
   "source": [
    "stmat"
   ]
  },
  {
   "cell_type": "code",
   "execution_count": 23,
   "metadata": {
    "collapsed": false
   },
   "outputs": [
    {
     "name": "stdout",
     "output_type": "stream",
     "text": [
      "[[ 0.          0.          0.         ...,  0.          0.          0.        ]\n",
      " [ 0.2570885   0.28223935  0.306582   ...,  0.27424754  0.28918031\n",
      "   0.27092128]\n",
      " [ 0.15820475  0.16890695  0.17547307 ...,  0.16705977  0.14757649\n",
      "   0.15527699]\n",
      " ..., \n",
      " [ 0.88692065  0.96758175  1.01051921 ...,  0.8986566   0.94408798\n",
      "   0.89749085]\n",
      " [ 1.06967203  1.13588447  1.1610454  ...,  1.07310397  1.08411929\n",
      "   1.06348169]\n",
      " [ 1.0844024   1.17576569  1.22526927 ...,  1.10499337  1.13094146\n",
      "   1.09204483]]\n"
     ]
    }
   ],
   "source": [
    "test_logloss = sdme.sdme_logloss2(stim, test_emp_distrib, stmat, test_sta, test_stc, test_cov)"
   ]
  },
  {
   "cell_type": "code",
   "execution_count": 24,
   "metadata": {
    "collapsed": false
   },
   "outputs": [
    {
     "data": {
      "text/plain": [
       "1026644909.5524793"
      ]
     },
     "execution_count": 24,
     "metadata": {},
     "output_type": "execute_result"
    }
   ],
   "source": [
    "test_logloss"
   ]
  },
  {
   "cell_type": "code",
   "execution_count": 25,
   "metadata": {
    "collapsed": false
   },
   "outputs": [],
   "source": [
    "def sdme_loglossA(stim, resp, stmat, A, B, C):\n",
    "    \n",
    "    # A: Current STA model estimate N x StimDim\n",
    "    # B: Current STC model estimate N x StimDim x StimDim\n",
    "    # C: Current Neuron-Neuron covarariance estimate 2^N x 2^N\n",
    "    # stmat: matrix of possible states\n",
    "    # stim: stim matrix StimDim x StimLen\n",
    "    # resp: response matrix N x SimLen   or... P(x|s) from data: 2^N x Stimlen because this is fixed for the fitting\n",
    "    \n",
    "    N, stimlen = np.shape(resp)\n",
    "    stimdim, stimlen = np.shape(stim)\n",
    "    \n",
    "    # Compute the probability over states\n",
    "    corr_states = np.diag(np.dot(np.dot(np.transpose(stmat), C), stmat))\n",
    "    outcorr = np.einsum('ijk,jt,kt->it', B, stim, stim)\n",
    "    \n",
    "    E = np.dot(np.dot(np.transpose(stmat), A),stim) + np.transpose(np.tile(corr_states, (stimlen, 1))) + np.dot(np.transpose(stmat), outcorr)\n",
    "    print(E)\n",
    "    probs = np.exp(E) / np.sum(np.exp(E),0 )  # 2^N x StimLen \n",
    "    probs[np.isnan(probs)] = 1.0\n",
    "    print(np.amax(probs))\n",
    "    print(np.amin(probs))\n",
    "    logprobs = np.log(probs)\n",
    "    logprobs[np.isnan(logprobs)] = 0.0\n",
    "    print(logprobs)\n",
    "    logloss = np.diag(np.dot(np.transpose(resp), logprobs)) \n",
    "    loglosszeros = np.isnan(logloss)\n",
    "    #logloss[loglosszeros] = 0.0\n",
    "    logloss = -1.0*np.sum(logloss) / 1.0*stimlen\n",
    "    return logloss"
   ]
  },
  {
   "cell_type": "code",
   "execution_count": 26,
   "metadata": {
    "collapsed": false
   },
   "outputs": [
    {
     "name": "stdout",
     "output_type": "stream",
     "text": [
      "[[ 0.          0.          0.         ...,  0.          0.          0.        ]\n",
      " [ 0.2570885   0.28223935  0.306582   ...,  0.27424754  0.28918031\n",
      "   0.27092128]\n",
      " [ 0.15820475  0.16890695  0.17547307 ...,  0.16705977  0.14757649\n",
      "   0.15527699]\n",
      " ..., \n",
      " [ 0.88692065  0.96758175  1.01051921 ...,  0.8986566   0.94408798\n",
      "   0.89749085]\n",
      " [ 1.06967203  1.13588447  1.1610454  ...,  1.07310397  1.08411929\n",
      "   1.06348169]\n",
      " [ 1.0844024   1.17576569  1.22526927 ...,  1.10499337  1.13094146\n",
      "   1.09204483]]\n",
      "0.12525698981\n",
      "0.0234972047188\n",
      "[[-3.34978985 -3.40304552 -3.43326686 ..., -3.36114686 -3.37821287\n",
      "  -3.35458196]\n",
      " [-3.09270135 -3.12080616 -3.12668486 ..., -3.08689932 -3.08903256\n",
      "  -3.08366068]\n",
      " [-3.19158509 -3.23413857 -3.25779379 ..., -3.19408709 -3.23063638\n",
      "  -3.19930497]\n",
      " ..., \n",
      " [-2.4628692  -2.43546377 -2.42274765 ..., -2.46249026 -2.43412489\n",
      "  -2.45709111]\n",
      " [-2.28011781 -2.26716105 -2.27222145 ..., -2.28804289 -2.29409358\n",
      "  -2.29110027]\n",
      " [-2.26538745 -2.22727983 -2.20799759 ..., -2.25615349 -2.24727141\n",
      "  -2.26253713]]\n"
     ]
    }
   ],
   "source": [
    "test_logloss2 = sdme_loglossA(stim, test_emp_distrib, stmat, test_sta, test_stc, test_cov)"
   ]
  },
  {
   "cell_type": "code",
   "execution_count": 27,
   "metadata": {
    "collapsed": false
   },
   "outputs": [
    {
     "data": {
      "text/plain": [
       "1026644909.5524793"
      ]
     },
     "execution_count": 27,
     "metadata": {},
     "output_type": "execute_result"
    }
   ],
   "source": [
    "test_logloss2"
   ]
  },
  {
   "cell_type": "code",
   "execution_count": 29,
   "metadata": {
    "collapsed": true
   },
   "outputs": [],
   "source": [
    "def sdme_dlogloss2(stim, stmat, dat_STA, dat_STC, dat_COV, A, B, C):\n",
    "    # A: Current STA model estimate N x StimDim\n",
    "    # B: Current STC model estimate N x StimDim x StimDim\n",
    "    # C: Current Neuron-Neuron covarariance estimate 2^N x 2^N\n",
    "    # stmat: matrix of possible states\n",
    "    # stim: stim matrix StimDim x StimLen\n",
    "    # dat_ : parameters estimated from data. \n",
    "    \n",
    "        \n",
    "    N, N2 = np.shape(stmat)\n",
    "    stimdim, stimlen = np.shape(stim)\n",
    "    \n",
    "    # Compute the probability over states\n",
    "    corr_states = np.diag(np.dot(np.dot(np.transpose(stmat), C), stmat))\n",
    "    outcorr = np.einsum('ijk,jt,kt->it', B, stim, stim)\n",
    "    \n",
    "    E = np.dot(np.dot(np.transpose(stmat), A),stim) + np.transpose(np.tile(corr_states, (stimlen, 1))) + np.dot(np.transpose(stmat), outcorr)\n",
    "    #print(E)\n",
    "    probs = np.exp(E) / np.sum(np.exp(E),0 )  # 2^N x StimLen \n",
    "    \n",
    "    #probs = np.expand_dims(probs, 2)\n",
    "    #mod_STA = data_to_sta(probs, stim)\n",
    "    #mod_STC = data_to_stc(probs, stim)\n",
    "    #mod_COV = data_to_cov(probs)\n",
    "    \n",
    "    unit_probs = np.dot(stmat, probs)\n",
    "    unit_probs_expand = np.expand_dims(unit_probs, 2)\n",
    "    mod_STA = np.dot(unit_probs, np.transpose(stim))\n",
    "    mod_STC = data_to_stc(unit_probs_expand, stim)\n",
    "    mod_COV = data_to_cov(unit_probs_expand)\n",
    "    \n",
    "    df1 = dat_STA - mod_STA\n",
    "    df2 = dat_STC - mod_STC\n",
    "    df3 = dat_COV - mod_COV\n",
    "    \n",
    "    return [df1, df2, df3]\n",
    "    "
   ]
  },
  {
   "cell_type": "code",
   "execution_count": 30,
   "metadata": {
    "collapsed": false
   },
   "outputs": [],
   "source": [
    "test_dlogloss = sdme_dlogloss2(stim, stmat, test_sta, test_stc, test_cov, test_sta, test_stc, test_cov)"
   ]
  },
  {
   "cell_type": "code",
   "execution_count": 31,
   "metadata": {
    "collapsed": false
   },
   "outputs": [
    {
     "data": {
      "text/plain": [
       "[array([[-16.17190708,   4.6718445 , -18.29944751, ...,  -5.42451615,\n",
       "          -9.86982532,   4.46841015],\n",
       "        [-15.3176943 ,   4.46773456, -17.51509444, ...,  -5.36671869,\n",
       "          -9.56988765,   4.25694815],\n",
       "        [-18.57723229,   5.26155634, -20.45523886, ...,  -6.1006608 ,\n",
       "         -11.06119386,   5.0348742 ],\n",
       "        [-17.6901317 ,   5.0597631 , -19.78665146, ...,  -5.96718546,\n",
       "         -10.71085721,   4.91611686]]),\n",
       " array([[[  3.20147136e-03,   2.42697708e-05,   4.42745241e-05, ...,\n",
       "           -2.40930271e-05,  -3.74479659e-05,   1.53332075e-05],\n",
       "         [  2.42697708e-05,   3.32562688e-03,   2.53677818e-05, ...,\n",
       "           -2.29666288e-05,   1.28577238e-05,  -2.41171938e-05],\n",
       "         [  4.42745241e-05,   2.53677818e-05,   3.39794846e-03, ...,\n",
       "           -4.00989115e-05,   2.92179407e-05,  -3.50138655e-05],\n",
       "         ..., \n",
       "         [ -2.40930271e-05,  -2.29666288e-05,  -4.00989115e-05, ...,\n",
       "            3.41408225e-03,   3.77160872e-05,   7.16580083e-05],\n",
       "         [ -3.74479659e-05,   1.28577238e-05,   2.92179407e-05, ...,\n",
       "            3.77160872e-05,   3.26256968e-03,  -1.55684200e-05],\n",
       "         [  1.53332075e-05,  -2.41171938e-05,  -3.50138655e-05, ...,\n",
       "            7.16580083e-05,  -1.55684200e-05,   3.38460961e-03]],\n",
       " \n",
       "        [[ -7.32889589e-03,   1.55771137e-06,  -4.21245313e-05, ...,\n",
       "            2.73553791e-05,   2.36772644e-05,  -4.85770440e-05],\n",
       "         [  1.55771137e-06,  -7.56563318e-03,  -4.43328595e-05, ...,\n",
       "           -5.64702357e-05,   1.55063332e-05,   8.57809640e-05],\n",
       "         [ -4.21245313e-05,  -4.43328595e-05,  -7.57088434e-03, ...,\n",
       "            1.83997672e-05,  -4.50140513e-05,   7.23108909e-05],\n",
       "         ..., \n",
       "         [  2.73553791e-05,  -5.64702357e-05,   1.83997672e-05, ...,\n",
       "           -7.49623718e-03,  -8.21092951e-05,   3.26113437e-05],\n",
       "         [  2.36772644e-05,   1.55063332e-05,  -4.50140513e-05, ...,\n",
       "           -8.21092951e-05,  -7.47203213e-03,  -1.79876661e-04],\n",
       "         [ -4.85770440e-05,   8.57809640e-05,   7.23108909e-05, ...,\n",
       "            3.26113437e-05,  -1.79876661e-04,  -7.45414119e-03]],\n",
       " \n",
       "        [[  3.78804752e-03,   6.69158650e-06,   4.45248598e-06, ...,\n",
       "            4.46802219e-05,   2.88977066e-05,   6.89979173e-05],\n",
       "         [  6.69158650e-06,   4.05018761e-03,   1.62977300e-06, ...,\n",
       "           -2.08296229e-05,  -2.21279526e-05,  -2.96982919e-05],\n",
       "         [  4.45248598e-06,   1.62977300e-06,   3.90959374e-03, ...,\n",
       "           -1.50321199e-05,  -1.75163600e-05,  -2.80038551e-05],\n",
       "         ..., \n",
       "         [  4.46802219e-05,  -2.08296229e-05,  -1.50321199e-05, ...,\n",
       "            4.10574555e-03,   3.80081962e-05,   6.88624567e-05],\n",
       "         [  2.88977066e-05,  -2.21279526e-05,  -1.75163600e-05, ...,\n",
       "            3.80081962e-05,   3.97702654e-03,   3.71710035e-05],\n",
       "         [  6.89979173e-05,  -2.96982919e-05,  -2.80038551e-05, ...,\n",
       "            6.88624567e-05,   3.71710035e-05,   4.14789566e-03]],\n",
       " \n",
       "        [[  2.18910949e-03,   3.33328604e-05,   1.66455670e-06, ...,\n",
       "            3.76427943e-05,   4.17764616e-05,   1.49105851e-05],\n",
       "         [  3.33328604e-05,   2.40861040e-03,   6.38026326e-06, ...,\n",
       "           -3.69407420e-05,  -3.59768534e-05,   4.55626050e-05],\n",
       "         [  1.66455670e-06,   6.38026326e-06,   2.28989614e-03, ...,\n",
       "            4.45832551e-05,   7.78492142e-06,   7.81794687e-06],\n",
       "         ..., \n",
       "         [  3.76427943e-05,  -3.69407420e-05,   4.45832551e-05, ...,\n",
       "            2.37569274e-03,   6.68554633e-05,   6.84243226e-06],\n",
       "         [  4.17764616e-05,  -3.59768534e-05,   7.78492142e-06, ...,\n",
       "            6.68554633e-05,   2.37221795e-03,   3.29039036e-05],\n",
       "         [  1.49105851e-05,   4.55626050e-05,   7.81794687e-06, ...,\n",
       "            6.84243226e-06,   3.29039036e-05,   2.49855554e-03]]]),\n",
       " array([[-0.40661126, -0.35679549, -0.33728039, -0.34721101],\n",
       "        [-0.35679549, -0.37506288, -0.30636308, -0.34743179],\n",
       "        [-0.33728039, -0.30636308, -0.51105891, -0.22794536],\n",
       "        [-0.34721101, -0.34743179, -0.22794536, -0.4818938 ]])]"
      ]
     },
     "execution_count": 31,
     "metadata": {},
     "output_type": "execute_result"
    }
   ],
   "source": [
    "test_dlogloss"
   ]
  },
  {
   "cell_type": "code",
   "execution_count": null,
   "metadata": {
    "collapsed": true
   },
   "outputs": [],
   "source": []
  }
 ],
 "metadata": {
  "kernelspec": {
   "display_name": "Python 2",
   "language": "python",
   "name": "python2"
  },
  "language_info": {
   "codemirror_mode": {
    "name": "ipython",
    "version": 2
   },
   "file_extension": ".py",
   "mimetype": "text/x-python",
   "name": "python",
   "nbconvert_exporter": "python",
   "pygments_lexer": "ipython2",
   "version": "2.7.10"
  }
 },
 "nbformat": 4,
 "nbformat_minor": 0
}
