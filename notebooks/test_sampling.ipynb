{
 "cells": [
  {
   "cell_type": "code",
   "execution_count": 2,
   "metadata": {
    "collapsed": false
   },
   "outputs": [
    {
     "name": "stdout",
     "output_type": "stream",
     "text": [
      "Populating the interactive namespace from numpy and matplotlib\n"
     ]
    }
   ],
   "source": [
    "import numpy as np\n",
    "import scipy as sp\n",
    "import sys\n",
    "sys.path.append('/home/brad/code/sdme')\n",
    "import sdme_logloss as sdme\n",
    "import matplotlib.pyplot as plt\n",
    "%pylab inline"
   ]
  },
  {
   "cell_type": "code",
   "execution_count": 3,
   "metadata": {
    "collapsed": true
   },
   "outputs": [],
   "source": [
    "Ndim = 2\n",
    "\n",
    "trpmat = np.random.randn(2, 2, 2)\n",
    "k = [0, 0]\n",
    "\n",
    "def p(x, covmat=[[1, 0.6], [0.6, 1]]):\n",
    "    \n",
    "    return np.exp(-np.dot(np.dot(x.transpose(), covmat), x) - np.dot(k, x) )\n",
    "\n",
    "def p2(x):\n",
    "    return np.exp(-(x[0]**4 + x[1]**4))"
   ]
  },
  {
   "cell_type": "code",
   "execution_count": 9,
   "metadata": {
    "collapsed": false
   },
   "outputs": [],
   "source": [
    "reload(sdme)\n",
    "init = np.array([0.1, 0.1])\n",
    "N_samples = 2000\n",
    "N_burnin = 10000\n",
    "N_skip = 1000\n",
    "dx = 1\n",
    "\n",
    "samples = sdme.mh_sampler(p, Ndim, N_samples, N_burnin, N_skip, init, dx)"
   ]
  },
  {
   "cell_type": "code",
   "execution_count": 10,
   "metadata": {
    "collapsed": false
   },
   "outputs": [
    {
     "data": {
      "text/plain": [
       "<matplotlib.collections.PathCollection at 0x7fabf52a3bd0>"
      ]
     },
     "execution_count": 10,
     "metadata": {},
     "output_type": "execute_result"
    },
    {
     "data": {
      "image/png": "[encoded data removed]",
      "text/plain": [
       "<matplotlib.figure.Figure at 0x7fabfc34f710>"
      ]
     },
     "metadata": {},
     "output_type": "display_data"
    }
   ],
   "source": [
    "plt.scatter(samples[0, :], samples[1, :])\n"
   ]
  },
  {
   "cell_type": "code",
   "execution_count": 11,
   "metadata": {
    "collapsed": false
   },
   "outputs": [
    {
     "name": "stdout",
     "output_type": "stream",
     "text": [
      "-0.472733542903\n",
      "0.0282327828613\n"
     ]
    }
   ],
   "source": [
    "print(np.dot(samples[0, :], samples[1, :]) / float(N_samples))\n",
    "print(np.mean(samples[0, :]))"
   ]
  },
  {
   "cell_type": "code",
   "execution_count": 126,
   "metadata": {
    "collapsed": false
   },
   "outputs": [],
   "source": [
    "reload(sdme)\n",
    "N_neuron = 10\n",
    "stimlen = 1200\n",
    "stimdim = 120\n",
    "N_t = 100\n",
    "beta_1 = np.random.randn(N_neuron, stimdim)\n",
    "beta_3= np.random.randn(N_neuron, N_neuron)\n",
    "\n",
    "stim = np.random.randn(stimdim, stimlen)\n",
    "resp_vec = 1.0*(np.random.uniform(size=(N_neuron, stimlen)) >0.5)\n",
    "\n",
    "test = sdme.sdme_p(resp_vec, stim, 1, beta_1, 0, beta_3)"
   ]
  },
  {
   "cell_type": "code",
   "execution_count": null,
   "metadata": {
    "collapsed": false
   },
   "outputs": [],
   "source": [
    "order = 1\n",
    "p_params = [stim, order, beta_1, 0, beta_3]\n",
    "N_samples = 10\n",
    "N_burnin = 50\n",
    "N_skip = 10\n",
    "init = resp_vec\n",
    "dx = 0\n",
    "\n",
    "%time tsamps = sdme.parallel_gibbs_sampler2(sdme.sdme_p, N_neuron, stimlen, N_samples, N_burnin, N_skip, init, dx, *p_params )"
   ]
  },
  {
   "cell_type": "code",
   "execution_count": 107,
   "metadata": {
    "collapsed": false
   },
   "outputs": [
    {
     "data": {
      "text/plain": [
       "array([[ 0.22,  0.21,  0.24, ...,  0.22,  0.18,  0.22],\n",
       "       [ 0.21,  0.2 ,  0.27, ...,  0.29,  0.22,  0.23],\n",
       "       [ 0.25,  0.28,  0.25, ...,  0.24,  0.24,  0.25],\n",
       "       ..., \n",
       "       [ 0.23,  0.29,  0.19, ...,  0.22,  0.21,  0.26],\n",
       "       [ 0.23,  0.25,  0.25, ...,  0.27,  0.18,  0.2 ],\n",
       "       [ 0.26,  0.27,  0.24, ...,  0.22,  0.23,  0.25]])"
      ]
     },
     "execution_count": 107,
     "metadata": {},
     "output_type": "execute_result"
    }
   ],
   "source": [
    "acc_rate"
   ]
  },
  {
   "cell_type": "code",
   "execution_count": 58,
   "metadata": {
    "collapsed": false
   },
   "outputs": [],
   "source": [
    "test = np.random.randn(10, 100)\n",
    "testind = np.greater(0.5*np.ones((1, 100)), np.random.uniform(size=(1, N_t)))\n",
    "test[9, testind.flatten()] = test[1, testind.flatten()]\n"
   ]
  },
  {
   "cell_type": "code",
   "execution_count": 79,
   "metadata": {
    "collapsed": true
   },
   "outputs": [],
   "source": [
    "test_sta = sdme.data_to_sta(tsamps, stim)"
   ]
  },
  {
   "cell_type": "code",
   "execution_count": 80,
   "metadata": {
    "collapsed": false
   },
   "outputs": [
    {
     "data": {
      "text/plain": [
       "array([[ 0.00856274,  0.00274063,  0.00955414,  0.00731673,  0.00708436,\n",
       "         0.00037532, -0.01403857, -0.011658  , -0.00603992,  0.01376391,\n",
       "        -0.01455324,  0.00836932,  0.00879665,  0.00624132, -0.02016577,\n",
       "        -0.0135358 ,  0.01731592,  0.00583621, -0.00595444, -0.01463641],\n",
       "       [-0.00861125,  0.00559926,  0.00582312, -0.00208651, -0.00168391,\n",
       "         0.01923877,  0.00546037, -0.00748155,  0.00297641,  0.01083186,\n",
       "         0.0078286 , -0.01208542, -0.01712742, -0.01793349,  0.00222652,\n",
       "         0.00268924,  0.01577489,  0.00695601,  0.00583606,  0.00228542],\n",
       "       [-0.00648293, -0.01262145, -0.00207004, -0.01899046, -0.01577123,\n",
       "        -0.02088928, -0.00373268, -0.00163458, -0.00065571, -0.00275453,\n",
       "        -0.00417522,  0.00331874, -0.0230554 ,  0.00434093, -0.01845344,\n",
       "         0.00755896, -0.00534566, -0.00483095, -0.008395  ,  0.00300929],\n",
       "       [-0.00154699, -0.02685974, -0.01535577, -0.0158641 , -0.02164743,\n",
       "        -0.02363112,  0.01689588,  0.00756938,  0.01503952,  0.00877222,\n",
       "        -0.00166916, -0.00451667, -0.00706994,  0.00091746,  0.01496145,\n",
       "        -0.00571188, -0.01378866, -0.00529787,  0.00649905,  0.01125916],\n",
       "       [ 0.00386245, -0.00011371, -0.01319218, -0.00559247,  0.0114675 ,\n",
       "         0.00217298,  0.01745241, -0.01171083,  0.0022737 , -0.0029689 ,\n",
       "         0.02238731,  0.01010768, -0.00344529,  0.00728232, -0.01762337,\n",
       "         0.00691958,  0.00509799,  0.01124117,  0.0018738 ,  0.00554315],\n",
       "       [-0.00394568,  0.00490039, -0.01067537,  0.00213172,  0.0220391 ,\n",
       "        -0.00050942,  0.02732092,  0.00615247, -0.01035094, -0.01090857,\n",
       "        -0.00066953, -0.01690111,  0.01788862, -0.00786679, -0.00498786,\n",
       "         0.00687174,  0.0158986 , -0.0018165 , -0.00367995,  0.0067198 ],\n",
       "       [ 0.00290981,  0.01197546,  0.00561118,  0.01721126,  0.0064494 ,\n",
       "         0.01330333, -0.03048242,  0.00575329,  0.00567091,  0.00503408,\n",
       "        -0.00259579,  0.00145374,  0.01039588,  0.02243871, -0.01231933,\n",
       "        -0.02120721,  0.00799936, -0.0145027 , -0.00946852, -0.01162048],\n",
       "       [-0.00307755, -0.0006968 ,  0.00488787,  0.00576436, -0.01814114,\n",
       "        -0.01559122,  0.00613895, -0.00929202,  0.01852264,  0.00682227,\n",
       "         0.0085874 , -0.00253792,  0.01784406,  0.00191581, -0.00625528,\n",
       "         0.02072068, -0.01446987, -0.01540684, -0.00246641, -0.01065872],\n",
       "       [ 0.01865336, -0.011891  ,  0.00230815, -0.00121964, -0.00476352,\n",
       "         0.00196579, -0.00053685,  0.01127851, -0.01207613,  0.01299346,\n",
       "         0.00123448,  0.00641093,  0.0025584 ,  0.01228591, -0.00092363,\n",
       "        -0.01019811, -0.01507571,  0.00104061, -0.0060787 , -0.00249955],\n",
       "       [ 0.00455291, -0.01369903,  0.00055708,  0.00750559,  0.00707592,\n",
       "        -0.01939837,  0.00306456, -0.00113614,  0.00064525,  0.0014636 ,\n",
       "         0.01626637, -0.00195016, -0.00125076,  0.02108114, -0.01159481,\n",
       "        -0.02279346, -0.01479466, -0.00355529,  0.01018371, -0.00849552]])"
      ]
     },
     "execution_count": 80,
     "metadata": {},
     "output_type": "execute_result"
    }
   ],
   "source": []
  },
  {
   "cell_type": "code",
   "execution_count": 104,
   "metadata": {
    "collapsed": false
   },
   "outputs": [
    {
     "data": {
      "text/plain": [
       "array([ 0.,  0.,  0.,  0.])"
      ]
     },
     "execution_count": 104,
     "metadata": {},
     "output_type": "execute_result"
    }
   ],
   "source": [
    "np.zeros(4)"
   ]
  },
  {
   "cell_type": "code",
   "execution_count": null,
   "metadata": {
    "collapsed": true
   },
   "outputs": [],
   "source": []
  }
 ],
 "metadata": {
  "kernelspec": {
   "display_name": "Python 2",
   "language": "python",
   "name": "python2"
  },
  "language_info": {
   "codemirror_mode": {
    "name": "ipython",
    "version": 2
   },
   "file_extension": ".py",
   "mimetype": "text/x-python",
   "name": "python",
   "nbconvert_exporter": "python",
   "pygments_lexer": "ipython2",
   "version": "2.7.11"
  }
 },
 "nbformat": 4,
 "nbformat_minor": 0
}
