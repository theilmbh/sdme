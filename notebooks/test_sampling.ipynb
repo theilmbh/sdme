{
 "cells": [
  {
   "cell_type": "code",
   "execution_count": 1,
   "metadata": {
    "collapsed": false
   },
   "outputs": [
    {
     "name": "stdout",
     "output_type": "stream",
     "text": [
      "Populating the interactive namespace from numpy and matplotlib\n"
     ]
    }
   ],
   "source": [
    "import numpy as np\n",
    "import scipy as sp\n",
    "import sys\n",
    "sys.path.append('/home/brad/code/sdme')\n",
    "import sdme_logloss as sdme\n",
    "import matplotlib.pyplot as plt\n",
    "%pylab inline"
   ]
  },
  {
   "cell_type": "code",
   "execution_count": null,
   "metadata": {
    "collapsed": true
   },
   "outputs": [],
   "source": [
    "Ndim = 2\n",
    "\n",
    "trpmat = np.random.randn(2, 2, 2)\n",
    "k = [0, 0]\n",
    "\n",
    "def p(x, covmat=[[1, 0.6], [0.6, 1]]):\n",
    "    \n",
    "    return np.exp(-np.dot(np.dot(x.transpose(), covmat), x) - np.dot(k, x) )\n",
    "\n",
    "def p2(x):\n",
    "    return np.exp(-(x[0]**4 + x[1]**4))"
   ]
  },
  {
   "cell_type": "code",
   "execution_count": null,
   "metadata": {
    "collapsed": false
   },
   "outputs": [],
   "source": [
    "reload(sdme)\n",
    "init = np.array([0.1, 0.1])\n",
    "N_samples = 2000\n",
    "N_burnin = 10000\n",
    "N_skip = 1000\n",
    "dx = 1\n",
    "\n",
    "samples = sdme.mh_sampler(p, Ndim, N_samples, N_burnin, N_skip, init, dx)"
   ]
  },
  {
   "cell_type": "code",
   "execution_count": null,
   "metadata": {
    "collapsed": false
   },
   "outputs": [],
   "source": [
    "plt.scatter(samples[0, :], samples[1, :])\n"
   ]
  },
  {
   "cell_type": "code",
   "execution_count": null,
   "metadata": {
    "collapsed": false
   },
   "outputs": [],
   "source": [
    "print(np.dot(samples[0, :], samples[1, :]) / float(N_samples))\n",
    "print(np.mean(samples[0, :]))"
   ]
  },
  {
   "cell_type": "code",
   "execution_count": null,
   "metadata": {
    "collapsed": true
   },
   "outputs": [],
   "source": [
    "reload(sdme)\n",
    "N_neuron = 10\n",
    "N = N_neuron\n",
    "stimlen = 120\n",
    "stimdim = 120\n",
    "N_t = 100\n",
    "beta_1 = np.random.randn(N_neuron, stimdim) / stimdim\n",
    "beta_3= np.random.randn(N_neuron, N_neuron) / N_neuron\n",
    "\n",
    "stim = np.random.randn(stimdim, stimlen)\n",
    "resp_vec = 1.0*(np.random.uniform(size=(N_neuron, stimlen, 1)) >0.5)"
   ]
  },
  {
   "cell_type": "code",
   "execution_count": null,
   "metadata": {
    "collapsed": false
   },
   "outputs": [],
   "source": [
    "resp_vec.shape"
   ]
  },
  {
   "cell_type": "code",
   "execution_count": null,
   "metadata": {
    "collapsed": false
   },
   "outputs": [],
   "source": [
    "test, samps = sdme.sdme_logloss(stim, resp_vec, beta_1, 0, beta_3)\n",
    "testd1, testd2, testd3 = sdme.sdme_dlogloss(stim, samps, beta_1, 0, beta_3, beta_1, 0, beta_3)"
   ]
  },
  {
   "cell_type": "code",
   "execution_count": null,
   "metadata": {
    "collapsed": false
   },
   "outputs": [],
   "source": [
    "order = 1\n",
    "p_params = [stim, order, beta_1, 0, beta_3]\n",
    "N_samples = 10\n",
    "N_burnin = 50\n",
    "N_skip = 10\n",
    "init = resp_vec\n",
    "dx = 0\n",
    "\n",
    "tsamps = sdme.parallel_gibbs_sampler2(sdme.sdme_p, N_neuron, stimlen, \n",
    "                                      N_samples, N_burnin, N_skip, \n",
    "                                      init, dx, *p_params )"
   ]
  },
  {
   "cell_type": "code",
   "execution_count": 12,
   "metadata": {
    "collapsed": false
   },
   "outputs": [
    {
     "data": {
      "image/png": "[encoded data removed]",
      "text/plain": [
       "<matplotlib.figure.Figure at 0x7f0f914bbf10>"
      ]
     },
     "metadata": {},
     "output_type": "display_data"
    },
    {
     "data": {
      "image/png": "[encoded data removed]",
      "text/plain": [
       "<matplotlib.figure.Figure at 0x7f0f67c2a390>"
      ]
     },
     "metadata": {},
     "output_type": "display_data"
    }
   ],
   "source": [
    "# Import data here.  In this case we will make our own. \n",
    "# First we generate some stimulus:\n",
    "stim_dim = 16*16\n",
    "stim_len = 2000\n",
    "stim = np.random.randn(stim_dim, stim_len)\n",
    "stim = 1.0*stim / np.max(stim)\n",
    "\n",
    "# Next, we generate (first order) population receptive fields\n",
    "\n",
    "N = 10  # Number of neurons\n",
    "p=0.1\n",
    "fo_rf = np.ones((N, stim_dim))\n",
    "fo_rf[np.random.rand(N, stim_dim) > p] = 0\n",
    "fo_rf[0, :] *= 0\n",
    "plt.figure()\n",
    "plt.set_cmap('gray')\n",
    "plt.imshow(fo_rf)\n",
    "\n",
    "# Generate Second Order Receptive fields\n",
    "\n",
    "x = np.linspace(-1.0, 1.0, 16)\n",
    "y = x\n",
    "X, Y = np.meshgrid(x, y)\n",
    "gb = np.exp(-(X**2 + Y**2)/0.25)*np.sin(2*np.pi*4*X)\n",
    "plt.figure()\n",
    "plt.set_cmap('gray')\n",
    "plt.imshow(gb)\n",
    "\n",
    "gbvec = np.squeeze(np.reshape(gb, (stim_dim, 1)))\n",
    "eigvecmat = np.random.randn(stim_dim, stim_dim)\n",
    "eigvecmat[0, :] = gbvec\n",
    "eigvalmat = np.identity(stim_dim)/10.0\n",
    "eigvalmat[0,0] = 1.0\n",
    "stc_model = np.dot(np.linalg.inv(eigvecmat), np.dot(eigvalmat, eigvecmat))\n",
    "stc_model_cube = np.zeros((N, stim_dim, stim_dim))\n",
    "stc_model_cube[0, :, :] = stc_model\n",
    "stimlen = stim_len"
   ]
  },
  {
   "cell_type": "code",
   "execution_count": 13,
   "metadata": {
    "collapsed": false
   },
   "outputs": [],
   "source": [
    "# generate data\n",
    "p_params = [stim, 1, fo_rf, [], np.eye(N)]\n",
    "sample_data = sdme.parallel_gibbs_sampler(sdme.sdme_p, N, stimlen, 20, 50, 100, \n",
    "                                          np.random.randn(N, stimlen), 0, *p_params)"
   ]
  },
  {
   "cell_type": "code",
   "execution_count": null,
   "metadata": {
    "collapsed": false
   },
   "outputs": [],
   "source": [
    "data_sta = sdme.data_to_sta(resp_vec, stim)\n",
    "data_cov = sdme.data_to_cov(resp_vec)\n",
    "data_stc = 0\n",
    "\n",
    "sta_len = N*stimdim\n",
    "stc_len = N*stimdim*stimdim\n",
    "cov_len = N*N\n",
    "\n",
    "sta_lin = np.reshape(data_sta, (sta_len,))\n",
    "#stc_lin = np.reshape(data_stc, (stc_len,))\n",
    "cov_lin = data_cov[np.triu_indices(N, 1)]\n",
    "#cov_lin = np.reshape(data_cov, (cov_len,))\n",
    "pstart = np.hstack((sta_lin, cov_lin))\n",
    "\n",
    "def logloss(p):\n",
    "    p_sta = np.reshape(p[0:sta_len], (N, stimdim))\n",
    "    \n",
    "    #p_stc = np.reshape(p[sta_len:sta_len+stc_len], (N, stim_dim, stim_dim))\n",
    "    p_stc = 0\n",
    "    p_cov = np.zeros((N, N))\n",
    "    p_cov[np.triu_indices(N, 1)] = p[sta_len:]\n",
    "    p_cov = p_cov + np.transpose(p_cov)\n",
    "    #p_cov = np.reshape(p[sta_len+stc_len:], (N, N))\n",
    "    \n",
    "    return -1.0*sdme.sdme_logloss(stim, N, stimlen, p_sta, p_stc, p_cov)\n",
    "\n",
    "def dlogloss(p):\n",
    "    p_sta = np.reshape(p[0:sta_len], (N, stimdim))\n",
    "    \n",
    "    #p_stc = np.reshape(p[sta_len:sta_len+stc_len], (N, stim_dim, stim_dim))\n",
    "    p_stc = 0\n",
    "    #p_cov = np.reshape(p[sta_len+stc_len:], (N, N))\n",
    "    p_cov = np.zeros((N, N))\n",
    "    p_cov[np.triu_indices(N, 1)] = p[sta_len:]\n",
    "    p_cov = p_cov + np.transpose(p_cov)\n",
    "    [dA, dB, dC] = sdme.sdme_dlogloss(stim, N, data_sta, data_stc, data_cov, p_sta, p_stc, p_cov)\n",
    "    dA_lin = np.reshape(dA, (sta_len,))\n",
    "    dB_lin = np.array([0])\n",
    "    dC_lin = dC[np.triu_indices(N, 1)]\n",
    "    #dC_lin = np.reshape(dC, (cov_len,))\n",
    "    logloss_grad = np.hstack((dA_lin, dC_lin ))\n",
    "    return logloss_grad\n"
   ]
  },
  {
   "cell_type": "code",
   "execution_count": null,
   "metadata": {
    "collapsed": false
   },
   "outputs": [],
   "source": [
    "import scipy.optimize as opt\n",
    "pfinal = opt.fmin_l_bfgs_b(logloss,pstart,fprime=dlogloss, factr = 1000, iprint=0)"
   ]
  },
  {
   "cell_type": "code",
   "execution_count": null,
   "metadata": {
    "collapsed": false
   },
   "outputs": [],
   "source": [
    "pfinal"
   ]
  },
  {
   "cell_type": "code",
   "execution_count": null,
   "metadata": {
    "collapsed": false
   },
   "outputs": [],
   "source": [
    "pout = pfinal[0]"
   ]
  },
  {
   "cell_type": "code",
   "execution_count": null,
   "metadata": {
    "collapsed": false
   },
   "outputs": [],
   "source": [
    "p_sta = np.reshape(pout[0:sta_len], (N, stimdim))\n",
    "p_sta"
   ]
  },
  {
   "cell_type": "code",
   "execution_count": null,
   "metadata": {
    "collapsed": true
   },
   "outputs": [],
   "source": []
  }
 ],
 "metadata": {
  "kernelspec": {
   "display_name": "Python 2",
   "language": "python",
   "name": "python2"
  },
  "language_info": {
   "codemirror_mode": {
    "name": "ipython",
    "version": 2
   },
   "file_extension": ".py",
   "mimetype": "text/x-python",
   "name": "python",
   "nbconvert_exporter": "python",
   "pygments_lexer": "ipython2",
   "version": "2.7.11"
  }
 },
 "nbformat": 4,
 "nbformat_minor": 0
}
