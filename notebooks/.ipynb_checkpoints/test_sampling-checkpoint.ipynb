{
 "cells": [
  {
   "cell_type": "code",
   "execution_count": 1,
   "metadata": {
    "collapsed": false
   },
   "outputs": [
    {
     "name": "stdout",
     "output_type": "stream",
     "text": [
      "Populating the interactive namespace from numpy and matplotlib\n"
     ]
    }
   ],
   "source": [
    "import numpy as np\n",
    "import scipy as sp\n",
    "import sys\n",
    "sys.path.append('/home/brad/code/sdme')\n",
    "import sdme_logloss as sdme\n",
    "import matplotlib.pyplot as plt\n",
    "%pylab inline"
   ]
  },
  {
   "cell_type": "code",
   "execution_count": null,
   "metadata": {
    "collapsed": true
   },
   "outputs": [],
   "source": [
    "Ndim = 2\n",
    "\n",
    "trpmat = np.random.randn(2, 2, 2)\n",
    "k = [0, 0]\n",
    "\n",
    "def p(x, covmat=[[1, 0.6], [0.6, 1]]):\n",
    "    \n",
    "    return np.exp(-np.dot(np.dot(x.transpose(), covmat), x) - np.dot(k, x) )\n",
    "\n",
    "def p2(x):\n",
    "    return np.exp(-(x[0]**4 + x[1]**4))"
   ]
  },
  {
   "cell_type": "code",
   "execution_count": 2,
   "metadata": {
    "collapsed": false
   },
   "outputs": [
    {
     "ename": "NameError",
     "evalue": "name 'p' is not defined",
     "output_type": "error",
     "traceback": [
      "\u001b[1;31m---------------------------------------------------------------------------\u001b[0m",
      "\u001b[1;31mNameError\u001b[0m                                 Traceback (most recent call last)",
      "\u001b[1;32m<ipython-input-2-66e359abd970>\u001b[0m in \u001b[0;36m<module>\u001b[1;34m()\u001b[0m\n\u001b[0;32m      6\u001b[0m \u001b[0mdx\u001b[0m \u001b[1;33m=\u001b[0m \u001b[1;36m1\u001b[0m\u001b[1;33m\u001b[0m\u001b[0m\n\u001b[0;32m      7\u001b[0m \u001b[1;33m\u001b[0m\u001b[0m\n\u001b[1;32m----> 8\u001b[1;33m \u001b[0msamples\u001b[0m \u001b[1;33m=\u001b[0m \u001b[0msdme\u001b[0m\u001b[1;33m.\u001b[0m\u001b[0mmh_sampler\u001b[0m\u001b[1;33m(\u001b[0m\u001b[0mp\u001b[0m\u001b[1;33m,\u001b[0m \u001b[0mNdim\u001b[0m\u001b[1;33m,\u001b[0m \u001b[0mN_samples\u001b[0m\u001b[1;33m,\u001b[0m \u001b[0mN_burnin\u001b[0m\u001b[1;33m,\u001b[0m \u001b[0mN_skip\u001b[0m\u001b[1;33m,\u001b[0m \u001b[0minit\u001b[0m\u001b[1;33m,\u001b[0m \u001b[0mdx\u001b[0m\u001b[1;33m)\u001b[0m\u001b[1;33m\u001b[0m\u001b[0m\n\u001b[0m",
      "\u001b[1;31mNameError\u001b[0m: name 'p' is not defined"
     ]
    }
   ],
   "source": [
    "reload(sdme)\n",
    "init = np.array([0.1, 0.1])\n",
    "N_samples = 2000\n",
    "N_burnin = 10000\n",
    "N_skip = 1000\n",
    "dx = 1\n",
    "\n",
    "samples = sdme.mh_sampler(p, Ndim, N_samples, N_burnin, N_skip, init, dx)"
   ]
  },
  {
   "cell_type": "code",
   "execution_count": null,
   "metadata": {
    "collapsed": false
   },
   "outputs": [],
   "source": [
    "plt.scatter(samples[0, :], samples[1, :])\n"
   ]
  },
  {
   "cell_type": "code",
   "execution_count": null,
   "metadata": {
    "collapsed": false
   },
   "outputs": [],
   "source": [
    "print(np.dot(samples[0, :], samples[1, :]) / float(N_samples))\n",
    "print(np.mean(samples[0, :]))"
   ]
  },
  {
   "cell_type": "code",
   "execution_count": 28,
   "metadata": {
    "collapsed": true
   },
   "outputs": [],
   "source": [
    "reload(sdme)\n",
    "N_neuron = 10\n",
    "N = N_neuron\n",
    "stimlen = 120\n",
    "stimdim = 120\n",
    "N_t = 100\n",
    "beta_1 = np.random.randn(N_neuron, stimdim) / stimdim\n",
    "beta_3= np.random.randn(N_neuron, N_neuron) / N_neuron\n",
    "\n",
    "stim = np.random.randn(stimdim, stimlen)\n",
    "resp_vec = 1.0*(np.random.uniform(size=(N_neuron, stimlen, 1)) >0.5)"
   ]
  },
  {
   "cell_type": "code",
   "execution_count": 14,
   "metadata": {
    "collapsed": false
   },
   "outputs": [
    {
     "data": {
      "text/plain": [
       "(10, 120, 1)"
      ]
     },
     "execution_count": 14,
     "metadata": {},
     "output_type": "execute_result"
    }
   ],
   "source": [
    "resp_vec.shape"
   ]
  },
  {
   "cell_type": "code",
   "execution_count": null,
   "metadata": {
    "collapsed": false
   },
   "outputs": [],
   "source": [
    "test, samps = sdme.sdme_logloss(stim, resp_vec, beta_1, 0, beta_3)\n",
    "testd1, testd2, testd3 = sdme.sdme_dlogloss(stim, samps, beta_1, 0, beta_3, beta_1, 0, beta_3)"
   ]
  },
  {
   "cell_type": "code",
   "execution_count": null,
   "metadata": {
    "collapsed": false
   },
   "outputs": [],
   "source": [
    "order = 1\n",
    "p_params = [stim, order, beta_1, 0, beta_3]\n",
    "N_samples = 10\n",
    "N_burnin = 50\n",
    "N_skip = 10\n",
    "init = resp_vec\n",
    "dx = 0\n",
    "\n",
    "tsamps = sdme.parallel_gibbs_sampler2(sdme.sdme_p, N_neuron, stimlen, \n",
    "                                      N_samples, N_burnin, N_skip, \n",
    "                                      init, dx, *p_params )"
   ]
  },
  {
   "cell_type": "code",
   "execution_count": 46,
   "metadata": {
    "collapsed": false
   },
   "outputs": [],
   "source": [
    "data_sta = sdme.data_to_sta(resp_vec, stim)\n",
    "data_cov = sdme.data_to_cov(resp_vec)\n",
    "data_stc = 0\n",
    "\n",
    "sta_len = N*stimdim\n",
    "stc_len = N*stimdim*stimdim\n",
    "cov_len = N*N\n",
    "\n",
    "sta_lin = np.reshape(data_sta, (sta_len,))\n",
    "#stc_lin = np.reshape(data_stc, (stc_len,))\n",
    "cov_lin = data_cov[np.triu_indices(N, 1)]\n",
    "#cov_lin = np.reshape(data_cov, (cov_len,))\n",
    "pstart = np.hstack((sta_lin, cov_lin))\n",
    "\n",
    "def logloss(p):\n",
    "    p_sta = np.reshape(p[0:sta_len], (N, stimdim))\n",
    "    \n",
    "    #p_stc = np.reshape(p[sta_len:sta_len+stc_len], (N, stim_dim, stim_dim))\n",
    "    p_stc = 0\n",
    "    p_cov = np.zeros((N, N))\n",
    "    p_cov[np.triu_indices(N, 1)] = p[sta_len:]\n",
    "    p_cov = p_cov + np.transpose(p_cov)\n",
    "    #p_cov = np.reshape(p[sta_len+stc_len:], (N, N))\n",
    "    \n",
    "    return -1.0*sdme.sdme_logloss(stim, N, stimlen, p_sta, p_stc, p_cov)\n",
    "\n",
    "def dlogloss(p):\n",
    "    p_sta = np.reshape(p[0:sta_len], (N, stimdim))\n",
    "    \n",
    "    #p_stc = np.reshape(p[sta_len:sta_len+stc_len], (N, stim_dim, stim_dim))\n",
    "    p_stc = 0\n",
    "    #p_cov = np.reshape(p[sta_len+stc_len:], (N, N))\n",
    "    p_cov = np.zeros((N, N))\n",
    "    p_cov[np.triu_indices(N, 1)] = p[sta_len:]\n",
    "    p_cov = p_cov + np.transpose(p_cov)\n",
    "    [dA, dB, dC] = sdme.sdme_dlogloss(stim, N, data_sta, data_stc, data_cov, p_sta, p_stc, p_cov)\n",
    "    dA_lin = np.reshape(dA, (sta_len,))\n",
    "    dB_lin = np.array([0])\n",
    "    dC_lin = dC[np.triu_indices(N, 1)]\n",
    "    #dC_lin = np.reshape(dC, (cov_len,))\n",
    "    logloss_grad = np.hstack((dA_lin, dC_lin ))\n",
    "    return logloss_grad\n"
   ]
  },
  {
   "cell_type": "code",
   "execution_count": 47,
   "metadata": {
    "collapsed": false
   },
   "outputs": [],
   "source": [
    "import scipy.optimize as opt\n",
    "pfinal = opt.fmin_l_bfgs_b(logloss,pstart,fprime=dlogloss, factr = 1000, iprint=0)"
   ]
  },
  {
   "cell_type": "code",
   "execution_count": 48,
   "metadata": {
    "collapsed": false
   },
   "outputs": [
    {
     "data": {
      "text/plain": [
       "(array([ 0.02068603,  0.01491067, -0.00445756, ...,  0.15623859,\n",
       "         0.08731214,  0.08907255]),\n",
       " 212.69126791791123,\n",
       " {'funcalls': 25,\n",
       "  'grad': array([ 0.06902539,  0.02582522, -0.11205104, ...,  1.89335556,\n",
       "          2.03337778, -0.59728611]),\n",
       "  'nit': 11,\n",
       "  'task': 'CONVERGENCE: REL_REDUCTION_OF_F_<=_FACTR*EPSMCH',\n",
       "  'warnflag': 0})"
      ]
     },
     "execution_count": 48,
     "metadata": {},
     "output_type": "execute_result"
    }
   ],
   "source": [
    "pfinal"
   ]
  },
  {
   "cell_type": "code",
   "execution_count": 49,
   "metadata": {
    "collapsed": false
   },
   "outputs": [],
   "source": [
    "pout = pfinal[0]"
   ]
  },
  {
   "cell_type": "code",
   "execution_count": 50,
   "metadata": {
    "collapsed": false
   },
   "outputs": [
    {
     "data": {
      "text/plain": [
       "array([[ 0.02068603,  0.01491067, -0.00445756, ...,  0.00297794,\n",
       "        -0.02765414,  0.02762086],\n",
       "       [ 0.00310374,  0.0140723 , -0.0078227 , ...,  0.01144517,\n",
       "        -0.01947759,  0.02084811],\n",
       "       [-0.02657639, -0.0100125 , -0.04198509, ...,  0.03864526,\n",
       "        -0.03788377,  0.03453544],\n",
       "       ..., \n",
       "       [ 0.01155448, -0.00086032, -0.01441722, ...,  0.01218254,\n",
       "        -0.00540451,  0.00984101],\n",
       "       [-0.00535844,  0.01559678, -0.00010018, ...,  0.02654123,\n",
       "        -0.01032432,  0.00072713],\n",
       "       [-0.02249314,  0.02573146, -0.00115982, ...,  0.00875429,\n",
       "        -0.0239446 ,  0.00492629]])"
      ]
     },
     "execution_count": 50,
     "metadata": {},
     "output_type": "execute_result"
    }
   ],
   "source": [
    "p_sta = np.reshape(pout[0:sta_len], (N, stimdim))\n",
    "p_sta"
   ]
  },
  {
   "cell_type": "code",
   "execution_count": null,
   "metadata": {
    "collapsed": true
   },
   "outputs": [],
   "source": []
  }
 ],
 "metadata": {
  "kernelspec": {
   "display_name": "Python 2",
   "language": "python",
   "name": "python2"
  },
  "language_info": {
   "codemirror_mode": {
    "name": "ipython",
    "version": 2
   },
   "file_extension": ".py",
   "mimetype": "text/x-python",
   "name": "python",
   "nbconvert_exporter": "python",
   "pygments_lexer": "ipython2",
   "version": "2.7.11"
  }
 },
 "nbformat": 4,
 "nbformat_minor": 0
}
